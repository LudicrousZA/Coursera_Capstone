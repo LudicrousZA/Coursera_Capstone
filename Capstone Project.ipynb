{
 "cells": [
  {
   "cell_type": "markdown",
   "id": "endangered-turkey",
   "metadata": {},
   "source": [
    "***\n",
    "# Applied Data Science Capstone Project \n",
    "***"
   ]
  },
  {
   "cell_type": "markdown",
   "id": "realistic-swing",
   "metadata": {},
   "source": [
    "#### This Jupyter Notebook will be used for the <i>Applied Data Science Capstone Project</i> "
   ]
  },
  {
   "cell_type": "markdown",
   "id": "previous-subsection",
   "metadata": {},
   "source": [
    "## Problem Description"
   ]
  },
  {
   "cell_type": "markdown",
   "id": "naughty-chick",
   "metadata": {},
   "source": [
    "***\n",
    "Comparing property rental prices of various suburbs in **Cape Town, South Africa** with key indicators to identify which indicators play a significant role in determining the rental price for these areas. Similarly priced suburbs need to be analysed to identify key distinguishing factors that influence rental prices.\n",
    "***"
   ]
  },
  {
   "cell_type": "markdown",
   "id": "defensive-silence",
   "metadata": {},
   "source": [
    "## Background"
   ]
  },
  {
   "cell_type": "markdown",
   "id": "binary-thomson",
   "metadata": {},
   "source": [
    "***\n",
    "It is difficult to define an average property rental price for a specific suburb without analysing various properties within that suburb. Various indicators are expected to also play a role in distinguishing site specific rental prices. Being able to analyse these indicators and correlating them with real data will allow for a better understanding of the true value of specific sites within a region, according to available market data. This data could be used to identify a property that is optimally located and priced according to specific personal preference.\n",
    "***"
   ]
  },
  {
   "cell_type": "markdown",
   "id": "approximate-moderator",
   "metadata": {},
   "source": [
    "## Data Description"
   ]
  },
  {
   "cell_type": "markdown",
   "id": "legal-intent",
   "metadata": {},
   "source": [
    "#### Suburb Data"
   ]
  },
  {
   "cell_type": "markdown",
   "id": "theoretical-rugby",
   "metadata": {},
   "source": [
    "***\n",
    "Suburb data for all the suburbs in **Cape Town** will be extracted from: https://en.wikipedia.org/wiki/List_of_Cape_Town_suburbs\n",
    "\n",
    "This data will be used to group various suburbs in larger regions within the Cape Town area, using the specified alocators located in the list above. This data provides the structure for all the investigated regions.\n",
    "***"
   ]
  },
  {
   "cell_type": "markdown",
   "id": "continued-jurisdiction",
   "metadata": {},
   "source": [
    "#### Rental Data"
   ]
  },
  {
   "cell_type": "markdown",
   "id": "logical-reader",
   "metadata": {},
   "source": [
    "***\n",
    "Property rental data will be scraped from Property24: https://www.property24.com/to-rent/cape-town/western-cape/432/p1?PropertyCategory=House%2cApartmentOrFlat%2cTownhouse from page indicator p1 to p316 (***13/04/2021***). The filter criteria is set to only search for property categories: **Houses, Apartments/Flats and Townhouses**.\n",
    "\n",
    "This data will be used to derive a region specific average rental price as well as identifying price ranges within specific regions. This data will be merged with the suburb data.\n",
    "***"
   ]
  },
  {
   "cell_type": "markdown",
   "id": "liquid-diabetes",
   "metadata": {},
   "source": [
    "#### Foursquare Indicators"
   ]
  },
  {
   "cell_type": "markdown",
   "id": "charged-township",
   "metadata": {},
   "source": [
    "***\n",
    "The Foursquare API will be implemented to extract geographical data to identify which types of facilities/destinations influence rental pricing.\n",
    "***"
   ]
  },
  {
   "cell_type": "markdown",
   "id": "critical-christianity",
   "metadata": {},
   "source": [
    "## Imports"
   ]
  },
  {
   "cell_type": "code",
   "execution_count": null,
   "id": "engaging-detector",
   "metadata": {},
   "outputs": [],
   "source": [
    "import pandas as pd\n",
    "import numpy as np"
   ]
  },
  {
   "cell_type": "code",
   "execution_count": 1,
   "id": "authorized-payday",
   "metadata": {},
   "outputs": [
    {
     "name": "stdout",
     "output_type": "stream",
     "text": [
      "Hello Capstone Project Course!\n"
     ]
    }
   ],
   "source": [
    "print(\"Hello Capstone Project Course!\")"
   ]
  },
  {
   "cell_type": "markdown",
   "id": "consecutive-distinction",
   "metadata": {},
   "source": []
  }
 ],
 "metadata": {
  "kernelspec": {
   "display_name": "Python 3",
   "language": "python",
   "name": "python3"
  },
  "language_info": {
   "codemirror_mode": {
    "name": "ipython",
    "version": 3
   },
   "file_extension": ".py",
   "mimetype": "text/x-python",
   "name": "python",
   "nbconvert_exporter": "python",
   "pygments_lexer": "ipython3",
   "version": "3.7.9"
  }
 },
 "nbformat": 4,
 "nbformat_minor": 5
}
